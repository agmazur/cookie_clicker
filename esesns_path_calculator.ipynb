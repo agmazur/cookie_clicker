{
 "cells": [
  {
   "cell_type": "code",
   "execution_count": 1,
   "id": "f6b8d166",
   "metadata": {},
   "outputs": [],
   "source": [
    "import pandas as pd\n",
    "import openpyxl\n",
    "import math\n",
    "from collections import deque\n",
    "df=pd.read_excel(\"C:\\\\Dev\\\\Cookieclicker\\\\esenses.xlsx\")\n",
    "# mirror the table\n",
    "data_stair = []\n",
    "for i, row in df.iterrows():\n",
    "    data_stair.append(row[2+i:])\n",
    "    \n",
    "# data_stair=[]\n",
    "# def coppy_ladder(row,i):\n",
    "#     data_stair.append(row[2+i:])\n",
    "# for i, row in df.iloc[:40].iterrows():\n",
    "#     coppy_ladder(row, i)\n",
    "\n",
    "\n",
    "# i=1\n",
    "# for index, value in enumerate(data_stair):\n",
    "#     df.iloc[index+1:index+1+len(value), index+1]=value \n",
    "\n",
    "for row_start_index, values in enumerate(data_stair):\n",
    "    for offset, val in enumerate(values):\n",
    "        row_index = row_start_index + offset + 1\n",
    "        col_index = row_start_index + 1\n",
    "        if row_index < len(df) and col_index < len(df.columns):\n",
    "            df.iat[row_index, col_index] = val"
   ]
  },
  {
   "cell_type": "code",
   "execution_count": 2,
   "id": "7a2d60a2",
   "metadata": {},
   "outputs": [],
   "source": [
    "# pd.set_option(\"display.max_columns\",100)\n",
    "# df"
   ]
  },
  {
   "cell_type": "code",
   "execution_count": 3,
   "id": "40bae152",
   "metadata": {},
   "outputs": [],
   "source": [
    "\n",
    "def find_all_combination_ingredients(essense_name_str):\n",
    "    combination_ingredients=[]\n",
    "    for col in df.columns[1:]:  \n",
    "        for index, cell in df[col].items():\n",
    "            if cell == essense_name_str:\n",
    "                combination_ingredients.append(col)\n",
    "                combination_ingredients.append(df.loc[index,\"Unnamed: 0\"])\n",
    "                # print(col,df.loc[index,\"Unnamed: 0\"])\n",
    "                # print(f\"Column: {col}, Index: {index}, Value: {cell}\")\n",
    "    combination_ingredients_unordered=list(dict.fromkeys(combination_ingredients))\n",
    "    return combination_ingredients_unordered\n",
    "def find_all_combination_results(essense_name_str):\n",
    "    ans=df[essense_name_str].unique()\n",
    "    cleaned_ans = [x for x in ans if x != \"non\" and x != 0 and not (isinstance(x, float) and math.isnan(x))]\n",
    "    # print(cleaned_ans)\n",
    "    return cleaned_ans\n",
    "\n",
    "def find_all_relative_essenses(essense_name_str):\n",
    "    combination_results=find_all_combination_results(essense_name_str)\n",
    "    combination_ingredients=find_all_combination_ingredients(essense_name_str)\n",
    "    relatives=combination_results+combination_ingredients\n",
    "    # for i in relatives:\n",
    "    #     print(f\"\\033[32m{i}\\033[0m\")\n",
    "    return(relatives)\n",
    "from collections import deque\n",
    "\n",
    "def find_path(start: str, target: str, get_branches):\n",
    "    queue = deque([start])\n",
    "    visited = set([start])\n",
    "    parent = {start: None}  # Tracks how we got to each node\n",
    "\n",
    "    while queue:\n",
    "        current = queue.popleft()\n",
    "        # print(f\"looking for {current}\")\n",
    "        if current == target:\n",
    "            # Reconstruct path\n",
    "            path = []\n",
    "            while current is not None:\n",
    "                path.append(current)\n",
    "                current = parent[current]\n",
    "            return list(reversed(path))  # From start to target\n",
    "        # print(f\"getting relatives {get_branches(current)}\")\n",
    "        for neighbor in get_branches(current):\n",
    "            if neighbor not in visited:\n",
    "                visited.add(neighbor)\n",
    "                # print(f\"\\033[31m{f\"stated {neighbor} as visited and {current} as its parent\"}\\033[0m\")\n",
    "                \n",
    "                parent[neighbor] = current\n",
    "                queue.append(neighbor)\n",
    "\n",
    "    return None  # No path found\n",
    "\n"
   ]
  },
  {
   "cell_type": "code",
   "execution_count": 9,
   "id": "ffd3becb",
   "metadata": {},
   "outputs": [
    {
     "name": "stdout",
     "output_type": "stream",
     "text": [
      "['telum', 'instrumentum']\n"
     ]
    }
   ],
   "source": [
    "a=find_path(\"telum\",\"instrumentum\",find_all_relative_essenses)\n",
    "\n",
    "print(a)"
   ]
  },
  {
   "cell_type": "code",
   "execution_count": 5,
   "id": "0acbf435",
   "metadata": {},
   "outputs": [
    {
     "name": "stdout",
     "output_type": "stream",
     "text": [
      "['aequalitas', 'aer', 'alienis', 'aqua', 'arbor', 'auram', 'bestia', 'caelum', 'cognito', 'corpus', 'desidia', 'electrum', 'exanimis', 'fabrico', 'fames', 'gelum', 'gula', 'herba', 'humanus', 'ignis', 'infernus', 'instrumentum', 'invidia', 'ira', 'iter', 'limus', 'lucrum', 'lux', 'luxuria', 'machina', 'magneto', 'messis', 'metallum', 'meto', 'mortuus', 'motus', 'ordo', 'pannus', 'perditio', 'perfodio', 'permutatio', 'potentia', 'praecantatio', 'radio', 'sano', 'sensus', 'spiritus', 'superbia', 'tabernus', 'telum', 'tempestas', 'tenebrae', 'terra', 'tutamen', 'vacuos', 'venenum', 'victus', 'vinculum', 'vitium', 'vitreus', 'volatus']\n"
     ]
    }
   ],
   "source": [
    "# finding unique values for df\n",
    "unique_values = pd.unique(df.values.ravel())\n",
    "cleaned_ans = [x for x in unique_values if x != \"non\" and x != 0 and not (isinstance(x, float) and math.isnan(x))]\n",
    "unique_values=sorted(cleaned_ans)\n",
    "print(unique_values)"
   ]
  },
  {
   "cell_type": "code",
   "execution_count": 6,
   "id": "ac52a23e",
   "metadata": {},
   "outputs": [
    {
     "data": {
      "text/plain": [
       "[]"
      ]
     },
     "execution_count": 6,
     "metadata": {},
     "output_type": "execute_result"
    }
   ],
   "source": [
    "find_all_combination_results(\"caelum\")"
   ]
  },
  {
   "cell_type": "code",
   "execution_count": null,
   "id": "815a64e1",
   "metadata": {},
   "outputs": [],
   "source": []
  }
 ],
 "metadata": {
  "kernelspec": {
   "display_name": ".venv",
   "language": "python",
   "name": "python3"
  },
  "language_info": {
   "codemirror_mode": {
    "name": "ipython",
    "version": 3
   },
   "file_extension": ".py",
   "mimetype": "text/x-python",
   "name": "python",
   "nbconvert_exporter": "python",
   "pygments_lexer": "ipython3",
   "version": "3.13.6"
  }
 },
 "nbformat": 4,
 "nbformat_minor": 5
}
